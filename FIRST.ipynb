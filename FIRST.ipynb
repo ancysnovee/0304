{
  "nbformat": 4,
  "nbformat_minor": 0,
  "metadata": {
    "colab": {
      "provenance": [],
      "authorship_tag": "ABX9TyNi/N7Skb7PCTyo+SGynmPc",
      "include_colab_link": true
    },
    "kernelspec": {
      "name": "python3",
      "display_name": "Python 3"
    },
    "language_info": {
      "name": "python"
    }
  },
  "cells": [
    {
      "cell_type": "markdown",
      "metadata": {
        "id": "view-in-github",
        "colab_type": "text"
      },
      "source": [
        "<a href=\"https://colab.research.google.com/github/ancysnovee/0304/blob/main/FIRST.ipynb\" target=\"_parent\"><img src=\"https://colab.research.google.com/assets/colab-badge.svg\" alt=\"Open In Colab\"/></a>"
      ]
    },
    {
      "cell_type": "code",
      "execution_count": 10,
      "metadata": {
        "colab": {
          "base_uri": "https://localhost:8080/"
        },
        "id": "LbteS9q_1Zxm",
        "outputId": "201c911f-81bb-4207-ab68-f98084ecd4c7"
      },
      "outputs": [
        {
          "output_type": "stream",
          "name": "stdout",
          "text": [
            "() <dtype: 'int32'>\n",
            "(1,) <dtype: 'int32'>\n",
            "(1, 2) <dtype: 'int32'>\n"
          ]
        }
      ],
      "source": [
        "import tensorflow as tf\n",
        "t=tf.constant(10)\n",
        "t1=tf.constant([1])\n",
        "t2=tf.constant([[1,3]])\n",
        "print(t.shape,t.dtype)\n",
        "print(t1.shape,t.dtype)\n",
        "print(t2.shape,t.dtype)"
      ]
    }
  ]
}